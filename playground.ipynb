{
 "cells": [
  {
   "cell_type": "code",
   "execution_count": 1,
   "metadata": {},
   "outputs": [],
   "source": [
    "from models.self_supervised_caffe import convert_caffe_to_pytorch"
   ]
  },
  {
   "cell_type": "code",
   "execution_count": 2,
   "metadata": {},
   "outputs": [
    {
     "name": "stderr",
     "output_type": "stream",
     "text": [
      "/users/ruthfong/anaconda3/envs/caffe_py27/lib/python2.7/site-packages/skimage/io/_io.py:49: UserWarning: `as_grey` has been deprecated in favor of `as_gray`\n",
      "  warn('`as_grey` has been deprecated in favor of `as_gray`')\n",
      "/users/ruthfong/anaconda3/envs/caffe_py27/lib/python2.7/site-packages/skimage/transform/_warps.py:105: UserWarning: The default mode, 'constant', will be changed to 'reflect' in skimage 0.15.\n",
      "  warn(\"The default mode, 'constant', will be changed to 'reflect' in \"\n",
      "/users/ruthfong/anaconda3/envs/caffe_py27/lib/python2.7/site-packages/skimage/transform/_warps.py:110: UserWarning: Anti-aliasing will be enabled by default in skimage 0.15 to avoid aliasing artifacts when down-sampling images.\n",
      "  warn(\"Anti-aliasing will be enabled by default in skimage 0.15 to \"\n"
     ]
    },
    {
     "name": "stdout",
     "output_type": "stream",
     "text": [
      "> /home/ruthfong/pytorch_models/models/self_supervised_caffe.py(26)convert_caffe_to_pytorch()\n",
      "-> return net\n",
      "(Pdb) c\n"
     ]
    }
   ],
   "source": [
    "net = convert_caffe_to_pytorch(gpu=0)"
   ]
  },
  {
   "cell_type": "code",
   "execution_count": 13,
   "metadata": {},
   "outputs": [],
   "source": [
    "import os\n",
    "\n",
    "from caffe.proto import caffe_pb2\n",
    "import google.protobuf.text_format as txtf\n",
    "\n",
    "import torch\n",
    "import torch.nn as nn\n",
    "\n",
    "from models.self_supervised_caffe import DEFAULT_CAFFE_MODELS_DIR\n",
    "from models.self_supervised import PUZZLE\n",
    "\n",
    "task_name = PUZZLE\n",
    "prototxt_path = os.path.join(DEFAULT_CAFFE_MODELS_DIR, task_name + '.prototxt')\n",
    "\n",
    "net_p = caffe_pb2.NetParameter()\n",
    "\n",
    "with open(prototxt_path) as f:\n",
    "    s = f.read()\n",
    "    txtf.Merge(s, net_p)\n",
    "\n",
    "layer_names = [l.name for l in net_p.layer]"
   ]
  },
  {
   "cell_type": "code",
   "execution_count": 5,
   "metadata": {},
   "outputs": [
    {
     "data": {
      "text/plain": [
       "[u'conv1_s1',\n",
       " u'relu1_s1',\n",
       " u'pool1_s1',\n",
       " u'norm1_s1',\n",
       " u'conv2_s1',\n",
       " u'relu2_s1',\n",
       " u'pool2_s1',\n",
       " u'norm2_s1',\n",
       " u'conv3_s1',\n",
       " u'relu3_s1',\n",
       " u'conv4_s1',\n",
       " u'relu4_s1',\n",
       " u'conv5_s1',\n",
       " u'relu5_s1',\n",
       " u'pool5']"
      ]
     },
     "execution_count": 5,
     "metadata": {},
     "output_type": "execute_result"
    }
   ],
   "source": [
    "layer_names"
   ]
  },
  {
   "cell_type": "code",
   "execution_count": 83,
   "metadata": {},
   "outputs": [
    {
     "data": {
      "text/plain": [
       "name: \"norm1_s1\"\n",
       "type: \"LRN\"\n",
       "bottom: \"pool1_s1\"\n",
       "top: \"norm1_s1\"\n",
       "lrn_param {\n",
       "  local_size: 5\n",
       "  alpha: 9.99999974738e-05\n",
       "  beta: 0.75\n",
       "}"
      ]
     },
     "execution_count": 83,
     "metadata": {},
     "output_type": "execute_result"
    }
   ],
   "source": [
    "net_p.layer[3]"
   ]
  },
  {
   "cell_type": "code",
   "execution_count": 105,
   "metadata": {},
   "outputs": [],
   "source": [
    "new_model = nn.Sequential(*[\n",
    "    nn.Conv2d(3, 96, kernel_size=(11, 11), stride=(4, 4)),\n",
    "nn.ReLU(inplace=True),\n",
    "nn.MaxPool2d(kernel_size=3, stride=2, padding=0, dilation=1, ceil_mode=True),\n",
    "nn.LocalResponseNorm(5, alpha=9.99999974738e-05, beta=0.75, k=1.0),\n",
    "nn.Conv2d(96, 256, kernel_size=(5, 5), stride=(1, 1), padding=(2, 2), groups=2),\n",
    "nn.ReLU(inplace=True),\n",
    "nn.MaxPool2d(kernel_size=3, stride=2, padding=0, dilation=1, ceil_mode=True),\n",
    "nn.LocalResponseNorm(5, alpha=9.99999974738e-05, beta=0.75, k=1.0),\n",
    "nn.Conv2d(256, 384, kernel_size=(3, 3), stride=(1, 1), padding=(1, 1)),\n",
    "nn.ReLU(inplace=True),\n",
    "nn.Conv2d(384, 384, kernel_size=(3, 3), stride=(1, 1), padding=(1, 1), groups=2),\n",
    "nn.ReLU(inplace=True),\n",
    "nn.Conv2d(384, 256, kernel_size=(3, 3), stride=(1, 1), padding=(1, 1), groups=2),\n",
    "nn.ReLU(inplace=True),\n",
    "nn.MaxPool2d(kernel_size=3, stride=2, padding=0, dilation=1, ceil_mode=True),\n",
    "])"
   ]
  },
  {
   "cell_type": "code",
   "execution_count": 114,
   "metadata": {},
   "outputs": [
    {
     "data": {
      "text/plain": [
       "True"
      ]
     },
     "execution_count": 114,
     "metadata": {},
     "output_type": "execute_result"
    }
   ],
   "source": [
    "'torch.nn' in str(type(m))"
   ]
  },
  {
   "cell_type": "code",
   "execution_count": 118,
   "metadata": {},
   "outputs": [
    {
     "name": "stdout",
     "output_type": "stream",
     "text": [
      "Sequential(*[\n",
      "nn.Conv2d(3, 96, kernel_size=(11, 11), stride=(4, 4)),\n",
      "nn.ReLU(inplace=True),\n",
      "nn.MaxPool2d(kernel_size=3, stride=2, padding=0, dilation=1, ceil_mode=True),\n",
      "nn.LocalResponseNorm(5, alpha=9.99999974738e-05, beta=0.75, k=1.0),\n",
      "nn.Conv2d(96, 256, kernel_size=(5, 5), stride=(1, 1), padding=(2, 2), groups=2),\n",
      "nn.ReLU(inplace=True),\n",
      "nn.MaxPool2d(kernel_size=3, stride=2, padding=0, dilation=1, ceil_mode=True),\n",
      "nn.LocalResponseNorm(5, alpha=9.99999974738e-05, beta=0.75, k=1.0),\n",
      "nn.Conv2d(256, 384, kernel_size=(3, 3), stride=(1, 1), padding=(1, 1)),\n",
      "nn.ReLU(inplace=True),\n",
      "nn.Conv2d(384, 384, kernel_size=(3, 3), stride=(1, 1), padding=(1, 1), groups=2),\n",
      "nn.ReLU(inplace=True),\n",
      "nn.Conv2d(384, 256, kernel_size=(3, 3), stride=(1, 1), padding=(1, 1), groups=2),\n",
      "nn.ReLU(inplace=True),\n",
      "nn.MaxPool2d(kernel_size=3, stride=2, padding=0, dilation=1, ceil_mode=True),\n",
      "])\n"
     ]
    }
   ],
   "source": [
    "assert isinstance(features, nn.Sequential)\n",
    "str_rep = 'Sequential(*[\\n'\n",
    "for m in features:\n",
    "    prefix = 'nn.' if 'torch.nn' in repr(type(m)) else ''\n",
    "    str_rep += prefix + str(m) + ',\\n'\n",
    "str_rep += '])'\n",
    "print(str_rep)"
   ]
  },
  {
   "cell_type": "code",
   "execution_count": 127,
   "metadata": {},
   "outputs": [
    {
     "data": {
      "text/plain": [
       "[u'conv1_s1']"
      ]
     },
     "execution_count": 127,
     "metadata": {},
     "output_type": "execute_result"
    }
   ],
   "source": [
    "net_p.layer[1].top"
   ]
  },
  {
   "cell_type": "code",
   "execution_count": 129,
   "metadata": {},
   "outputs": [
    {
     "name": "stdout",
     "output_type": "stream",
     "text": [
      "(0, name: \"conv1_s1\"\n",
      "type: \"Convolution\"\n",
      "bottom: \"data\"\n",
      "top: \"conv1_s1\"\n",
      "convolution_param {\n",
      "  num_output: 96\n",
      "  kernel_size: 11\n",
      "  stride: 4\n",
      "}\n",
      ")\n",
      "(1, name: \"relu1_s1\"\n",
      "type: \"ReLU\"\n",
      "bottom: \"conv1_s1\"\n",
      "top: \"conv1_s1\"\n",
      ")\n",
      "(2, name: \"pool1_s1\"\n",
      "type: \"Pooling\"\n",
      "bottom: \"conv1_s1\"\n",
      "top: \"pool1_s1\"\n",
      "pooling_param {\n",
      "  pool: MAX\n",
      "  kernel_size: 3\n",
      "  stride: 2\n",
      "}\n",
      ")\n",
      "(3, name: \"norm1_s1\"\n",
      "type: \"LRN\"\n",
      "bottom: \"pool1_s1\"\n",
      "top: \"norm1_s1\"\n",
      "lrn_param {\n",
      "  local_size: 5\n",
      "  alpha: 9.99999974738e-05\n",
      "  beta: 0.75\n",
      "}\n",
      ")\n",
      "(4, name: \"conv2_s1\"\n",
      "type: \"Convolution\"\n",
      "bottom: \"norm1_s1\"\n",
      "top: \"conv2_s1\"\n",
      "convolution_param {\n",
      "  num_output: 256\n",
      "  pad: 2\n",
      "  kernel_size: 5\n",
      "  group: 2\n",
      "}\n",
      ")\n",
      "(5, name: \"relu2_s1\"\n",
      "type: \"ReLU\"\n",
      "bottom: \"conv2_s1\"\n",
      "top: \"conv2_s1\"\n",
      ")\n",
      "(6, name: \"pool2_s1\"\n",
      "type: \"Pooling\"\n",
      "bottom: \"conv2_s1\"\n",
      "top: \"pool2_s1\"\n",
      "pooling_param {\n",
      "  pool: MAX\n",
      "  kernel_size: 3\n",
      "  stride: 2\n",
      "}\n",
      ")\n",
      "(7, name: \"norm2_s1\"\n",
      "type: \"LRN\"\n",
      "bottom: \"pool2_s1\"\n",
      "top: \"norm2_s1\"\n",
      "lrn_param {\n",
      "  local_size: 5\n",
      "  alpha: 9.99999974738e-05\n",
      "  beta: 0.75\n",
      "}\n",
      ")\n",
      "(8, name: \"conv3_s1\"\n",
      "type: \"Convolution\"\n",
      "bottom: \"norm2_s1\"\n",
      "top: \"conv3_s1\"\n",
      "convolution_param {\n",
      "  num_output: 384\n",
      "  pad: 1\n",
      "  kernel_size: 3\n",
      "}\n",
      ")\n",
      "(9, name: \"relu3_s1\"\n",
      "type: \"ReLU\"\n",
      "bottom: \"conv3_s1\"\n",
      "top: \"conv3_s1\"\n",
      ")\n",
      "(10, name: \"conv4_s1\"\n",
      "type: \"Convolution\"\n",
      "bottom: \"conv3_s1\"\n",
      "top: \"conv4_s1\"\n",
      "convolution_param {\n",
      "  num_output: 384\n",
      "  pad: 1\n",
      "  kernel_size: 3\n",
      "  group: 2\n",
      "}\n",
      ")\n",
      "(11, name: \"relu4_s1\"\n",
      "type: \"ReLU\"\n",
      "bottom: \"conv4_s1\"\n",
      "top: \"conv4_s1\"\n",
      ")\n",
      "(12, name: \"conv5_s1\"\n",
      "type: \"Convolution\"\n",
      "bottom: \"conv4_s1\"\n",
      "top: \"conv5_s1\"\n",
      "convolution_param {\n",
      "  num_output: 256\n",
      "  pad: 1\n",
      "  kernel_size: 3\n",
      "  group: 2\n",
      "}\n",
      ")\n",
      "(13, name: \"relu5_s1\"\n",
      "type: \"ReLU\"\n",
      "bottom: \"conv5_s1\"\n",
      "top: \"conv5_s1\"\n",
      ")\n",
      "(14, name: \"pool5\"\n",
      "type: \"Pooling\"\n",
      "bottom: \"conv5_s1\"\n",
      "top: \"pool5\"\n",
      "pooling_param {\n",
      "  pool: MAX\n",
      "  kernel_size: 3\n",
      "  stride: 2\n",
      "}\n",
      ")\n"
     ]
    }
   ],
   "source": [
    "POOL_MAX = 0;\n",
    "POOL_AVE = 1;\n",
    "POOL_STOCHASTIC = 2;\n",
    "\n",
    "def extract_param(param, default_value=None):\n",
    "    if isinstance(param, int) or isinstance(param, float):\n",
    "        return param\n",
    "    if len(param) == 1:\n",
    "        return int(param[0])\n",
    "    elif len(param) == 0:\n",
    "        if default_value is not None:\n",
    "            return default_value\n",
    "        else:\n",
    "            # TODO(ruthfong): raise specific error.\n",
    "            assert False\n",
    "    else:\n",
    "        raise NotImplementedError\n",
    "\n",
    "get_stride = lambda p: extract_param(p.stride, 1)\n",
    "get_padding = lambda p: extract_param(p.pad, 0)\n",
    "get_kernel_size = lambda p: extract_param(p.kernel_size)\n",
    "get_bias = lambda p: extract_param(p.bias_term, True)\n",
    "get_groups = lambda p: extract_param(p.group, 1)\n",
    "get_local_size = lambda p: extract_param(p.local_size, 5)\n",
    "get_alpha = lambda p: extract_param(p.alpha, 1.)\n",
    "get_beta = lambda p: extract_param(p.beta, 0.75)\n",
    "get_k = lambda p: extract_param(p.k, 1.)\n",
    "\n",
    "prev_dim = 3\n",
    "inplace = True\n",
    "new_layers = []\n",
    "learnable_layers = {}\n",
    "\n",
    "for i, layer in enumerate(net_p.layer):\n",
    "    if layer.type == 'Convolution':\n",
    "        p = layer.convolution_param\n",
    "        kernel_size = get_kernel_size(p)\n",
    "        stride = get_stride(p)\n",
    "        padding = get_padding(p)\n",
    "        bias = get_bias(p)\n",
    "        groups = get_groups(p)\n",
    "        new_layer = nn.Conv2d(prev_dim,\n",
    "                              p.num_output,\n",
    "                              kernel_size,\n",
    "                              stride=stride,\n",
    "                              padding=padding,\n",
    "                              dilation=1,\n",
    "                              groups=groups,\n",
    "                              bias=bias,\n",
    "                              padding_mode='zeros')\n",
    "        assert len(layer.top) == 1\n",
    "        learnable_layers[layer.top[0]] = i\n",
    "        prev_dim = p.num_output\n",
    "    elif layer.type == 'ReLU':\n",
    "        assert len(layer.top) == 1\n",
    "        assert len(layer.bottom) == 1\n",
    "        new_layer = nn.ReLU(inplace=inplace if inplace else layer.top[0] == layer.bottom[0])\n",
    "    elif layer.type == 'Pooling':\n",
    "        p = layer.pooling_param\n",
    "        kernel_size = get_kernel_size(p)\n",
    "        stride = get_stride(p)\n",
    "        padding = get_padding(p)\n",
    "        ceil_mode = True  # caffe uses ceil_mode=True\n",
    "        if p.pool is POOL_MAX:\n",
    "            new_layer = nn.MaxPool2d(kernel_size,\n",
    "                                     stride=stride,\n",
    "                                     padding=padding,\n",
    "                                     dilation=1,\n",
    "                                     return_indices=False,\n",
    "                                     ceil_mode=ceil_mode)\n",
    "        else:\n",
    "            raise NotImplementedError\n",
    "    elif layer.type == 'LRN':\n",
    "        p = layer.lrn_param\n",
    "        local_size = get_local_size(p)\n",
    "        alpha = get_alpha(p)\n",
    "        beta = get_beta(p)\n",
    "        k = get_k(p)\n",
    "        new_layer = nn.LocalResponseNorm(local_size,\n",
    "                                         alpha=alpha,\n",
    "                                         beta=beta,\n",
    "                                         k=k)\n",
    "    else:\n",
    "        raise NotImplementedError\n",
    "    print(i, layer)#, new_layer)\n",
    "    new_layers.append(new_layer)"
   ]
  },
  {
   "cell_type": "code",
   "execution_count": 135,
   "metadata": {},
   "outputs": [],
   "source": [
    "features = nn.Sequential(*new_layers)\n",
    "for param_name, param in net.params.items():\n",
    "    layer_i = learnable_layers[param_name]\n",
    "    num_params = len(param)\n",
    "    assert num_params > 0\n",
    "    assert num_params < 3\n",
    "    assert 'conv' in param_name\n",
    "    features[layer_i].weight.data[...] = torch.from_numpy(param[0].data)\n",
    "    if num_params == 2:\n",
    "        features[layer_i].bias.data[...] = torch.from_numpy(param[1].data)"
   ]
  },
  {
   "cell_type": "code",
   "execution_count": 21,
   "metadata": {},
   "outputs": [],
   "source": [
    "model = models.alexnet()"
   ]
  },
  {
   "cell_type": "code",
   "execution_count": 176,
   "metadata": {},
   "outputs": [],
   "source": [
    "from torchvision.models.utils import load_state_dict_from_url\n",
    "\n",
    "model_urls = {\n",
    "    'weakly_solvingpuzzle': 'https://github.com/ruthcfong/pytorch_models/releases/download/v2.0/alexnet-weakly_solvingpuzzle-7e75c18e.pt',\n",
    "}\n",
    "\n",
    "class AlexNetPuzzle(nn.Module):\n",
    "    def __init__(self, params=None):\n",
    "        super(AlexNetPuzzle, self).__init__()\n",
    "        self.features = nn.Sequential(\n",
    "            nn.Conv2d(3, 96, kernel_size=11, stride=4),\n",
    "            nn.ReLU(inplace=True),\n",
    "            nn.MaxPool2d(kernel_size=3, stride=2),\n",
    "            nn.LocalResponseNorm(5, alpha=0.0001, beta=0.75),\n",
    "            nn.Conv2d(96, 256, kernel_size=5, groups=2, padding=2),\n",
    "            nn.ReLU(inplace=True),\n",
    "            nn.MaxPool2d(kernel_size=3, stride=2),\n",
    "            nn.LocalResponseNorm(5, alpha=0.0001, beta=0.75),\n",
    "            nn.Conv2d(256, 384, kernel_size=3, padding=1),\n",
    "            nn.ReLU(inplace=True),\n",
    "            nn.Conv2d(384, 384, kernel_size=3, groups=2, padding=1),\n",
    "            nn.ReLU(inplace=True),\n",
    "            nn.Conv2d(384, 256, kernel_size=3, groups=2, padding=1),\n",
    "            nn.ReLU(inplace=True),\n",
    "            nn.MaxPool2d(kernel_size=3, stride=2)\n",
    "        )\n",
    "        if params:\n",
    "            self.load_caffe_weights(params)\n",
    "\n",
    "    def forward(self, x):\n",
    "        return self.features(x)\n",
    "\n",
    "    def load_caffe_weights(self, params):\n",
    "        self.features[0].weight.data[...] = torch.from_numpy(params['conv1_s1'][0].data)\n",
    "        self.features[0].bias.data[...] = torch.from_numpy(params['conv1_s1'][1].data)\n",
    "        self.features[4].weight.data[...] = torch.from_numpy(params['conv2_s1'][0].data)\n",
    "        self.features[4].bias.data[...] = torch.from_numpy(params['conv2_s1'][1].data)\n",
    "        self.features[8].weight.data[...] = torch.from_numpy(params['conv3_s1'][0].data)\n",
    "        self.features[8].bias.data[...] = torch.from_numpy(params['conv3_s1'][1].data)\n",
    "        self.features[10].weight.data[...] = torch.from_numpy(params['conv4_s1'][0].data)\n",
    "        self.features[10].bias.data[...] = torch.from_numpy(params['conv4_s1'][1].data)\n",
    "        self.features[12].weight.data[...] = torch.from_numpy(params['conv5_s1'][0].data)\n",
    "        self.features[12].bias.data[...] = torch.from_numpy(params['conv5_s1'][1].data)\n",
    "\n",
    "def alexnet(task_name='weakly_solvingpuzzle',\n",
    "            pretrained=False,\n",
    "            progress=True,\n",
    "            **kwargs):\n",
    "    assert task_name == 'weakly_solvingpuzzle'\n",
    "    if task_name == 'weakly_solvingpuzzle':\n",
    "        AlexNetPuzzle(**kwargs)\n",
    "    if pretrained:\n",
    "        state_dict = load_state_dict_from_url(model_urls[task_name],\n",
    "                                              progress=progress)\n",
    "        model.load_state_dict(state_dict)\n",
    "    return model"
   ]
  },
  {
   "cell_type": "code",
   "execution_count": 177,
   "metadata": {},
   "outputs": [
    {
     "name": "stderr",
     "output_type": "stream",
     "text": [
      "Downloading: \"https://github.com/ruthcfong/pytorch_models/releases/download/v2.0/alexnet-weakly_solvingpuzzle-7e75c18e.pt\" to /users/ruthfong/.cache/torch/checkpoints/alexnet-weakly_solvingpuzzle-7e75c18e.pt\n",
      "100.0%\n"
     ]
    }
   ],
   "source": [
    "model = alexnet(pretrained=True)"
   ]
  },
  {
   "cell_type": "code",
   "execution_count": 158,
   "metadata": {},
   "outputs": [],
   "source": [
    "new_model = nn.Sequential(\n",
    "    nn.Conv2d(3, 96, kernel_size=11, stride=4),\n",
    "    nn.ReLU(inplace=True),\n",
    "    nn.MaxPool2d(kernel_size=3, stride=2),\n",
    "    nn.LocalResponseNorm(5, alpha=0.0001, beta=0.75),\n",
    "    nn.Conv2d(96, 256, kernel_size=5, groups=2, padding=2),\n",
    "    nn.ReLU(inplace=True),\n",
    "    nn.MaxPool2d(kernel_size=3, stride=2),\n",
    "    nn.LocalResponseNorm(5, alpha=0.0001, beta=0.75),\n",
    "    nn.Conv2d(256, 384, kernel_size=3, padding=1),\n",
    "    nn.ReLU(inplace=True),\n",
    "    nn.Conv2d(384, 384, kernel_size=3, groups=2, padding=1),\n",
    "    nn.ReLU(inplace=True),\n",
    "    nn.Conv2d(384, 256, kernel_size=3, groups=2, padding=1),\n",
    "    nn.ReLU(inplace=True),\n",
    "    nn.MaxPool2d(kernel_size=3, stride=2)\n",
    ")"
   ]
  },
  {
   "cell_type": "code",
   "execution_count": 170,
   "metadata": {},
   "outputs": [],
   "source": [
    "model = AlexNetPuzzle(params=net.params)"
   ]
  },
  {
   "cell_type": "code",
   "execution_count": 173,
   "metadata": {},
   "outputs": [],
   "source": [
    "pytorch_models_dir = '/scratch/local/ssd/ruthfong/models/net_dissect/pytorch'\n",
    "torch.save(model.state_dict(), os.path.join(pytorch_models_dir, caffe_model_name + '.pt'))"
   ]
  },
  {
   "cell_type": "code",
   "execution_count": 159,
   "metadata": {},
   "outputs": [],
   "source": [
    "new_model[0].weight.data[...] = torch.from_numpy(net.params['conv1_s1'][0].data)\n",
    "new_model[0].bias.data[...] = torch.from_numpy(net.params['conv1_s1'][1].data)\n",
    "new_model[4].weight.data[...] = torch.from_numpy(net.params['conv2_s1'][0].data)\n",
    "new_model[4].bias.data[...] = torch.from_numpy(net.params['conv2_s1'][1].data)\n",
    "new_model[8].weight.data[...] = torch.from_numpy(net.params['conv3_s1'][0].data)\n",
    "new_model[8].bias.data[...] = torch.from_numpy(net.params['conv3_s1'][1].data)\n",
    "new_model[10].weight.data[...] = torch.from_numpy(net.params['conv4_s1'][0].data)\n",
    "new_model[10].bias.data[...] = torch.from_numpy(net.params['conv4_s1'][1].data)\n",
    "new_model[12].weight.data[...] = torch.from_numpy(net.params['conv5_s1'][0].data)\n",
    "new_model[12].bias.data[...] = torch.from_numpy(net.params['conv5_s1'][1].data)"
   ]
  },
  {
   "cell_type": "code",
   "execution_count": 136,
   "metadata": {},
   "outputs": [],
   "source": [
    "x = torch.from_numpy(net.blobs['data'].data)"
   ]
  },
  {
   "cell_type": "code",
   "execution_count": 138,
   "metadata": {},
   "outputs": [
    {
     "data": {
      "text/plain": [
       "1.23381615e-05"
      ]
     },
     "execution_count": 138,
     "metadata": {},
     "output_type": "execute_result"
    }
   ],
   "source": [
    "(features(x).cpu().data.numpy() - net.blobs['pool5'].data).max()"
   ]
  },
  {
   "cell_type": "code",
   "execution_count": 101,
   "metadata": {},
   "outputs": [
    {
     "data": {
      "text/plain": [
       "(1, 96, 27, 27)"
      ]
     },
     "execution_count": 101,
     "metadata": {},
     "output_type": "execute_result"
    }
   ],
   "source": [
    "net.blobs['norm1_s1'].data.shape"
   ]
  },
  {
   "cell_type": "code",
   "execution_count": 127,
   "metadata": {},
   "outputs": [
    {
     "data": {
      "text/plain": [
       "(1, 256, 23, 23)"
      ]
     },
     "execution_count": 127,
     "metadata": {},
     "output_type": "execute_result"
    }
   ],
   "source": [
    "new_model(x).cpu().data.numpy().shape"
   ]
  },
  {
   "cell_type": "code",
   "execution_count": 140,
   "metadata": {},
   "outputs": [],
   "source": [
    "res = net.forward()"
   ]
  },
  {
   "cell_type": "code",
   "execution_count": 145,
   "metadata": {},
   "outputs": [
    {
     "data": {
      "text/plain": [
       "[array([[[[0.        , 0.        , 0.        , 0.85551125, 1.3025935 ,\n",
       "           1.3025935 ],\n",
       "          [3.3760371 , 1.4088893 , 0.366484  , 0.        , 0.        ,\n",
       "           0.        ],\n",
       "          [4.459055  , 2.8510556 , 1.6761396 , 0.        , 0.        ,\n",
       "           0.        ],\n",
       "          [4.459055  , 2.8510556 , 1.0216339 , 0.        , 0.        ,\n",
       "           0.        ],\n",
       "          [3.5553567 , 0.        , 0.        , 0.        , 0.        ,\n",
       "           0.2769971 ],\n",
       "          [7.378141  , 0.5810433 , 0.72360927, 0.96689403, 1.3337975 ,\n",
       "           5.6620555 ]],\n",
       " \n",
       "         [[3.3095646 , 2.8439968 , 1.460573  , 0.        , 1.6661899 ,\n",
       "           4.248808  ],\n",
       "          [1.3726615 , 1.0828011 , 0.53819937, 3.356305  , 1.675411  ,\n",
       "           8.006325  ],\n",
       "          [1.7812512 , 1.7812512 , 1.279727  , 3.356305  , 1.6539552 ,\n",
       "           7.875453  ],\n",
       "          [1.8288398 , 1.391819  , 1.279727  , 2.2421281 , 0.        ,\n",
       "           4.818714  ],\n",
       "          [1.5117986 , 0.08267725, 0.85451657, 2.1767461 , 0.        ,\n",
       "           4.818714  ],\n",
       "          [0.75973004, 0.08267725, 0.16778624, 0.16778624, 0.        ,\n",
       "           0.46868938]],\n",
       " \n",
       "         [[7.6847005 , 0.        , 0.        , 0.6760684 , 0.711982  ,\n",
       "           4.1528625 ],\n",
       "          [1.1879184 , 0.        , 0.        , 1.51985   , 1.51985   ,\n",
       "           2.6569262 ],\n",
       "          [0.70932204, 0.        , 0.26594365, 1.8402185 , 1.5999569 ,\n",
       "           1.5843064 ],\n",
       "          [0.5750831 , 0.        , 0.        , 0.8556992 , 0.653561  ,\n",
       "           0.56091297],\n",
       "          [0.5750831 , 0.01246071, 0.        , 0.5535799 , 0.15597153,\n",
       "           0.31082666],\n",
       "          [1.9170532 , 1.1447856 , 0.5275121 , 1.1026821 , 1.1026821 ,\n",
       "           1.7488825 ]],\n",
       " \n",
       "         ...,\n",
       " \n",
       "         [[2.9693136 , 2.9245553 , 2.9245553 , 2.4337964 , 1.774308  ,\n",
       "           1.9048119 ],\n",
       "          [1.1485646 , 2.9245553 , 2.9245553 , 0.        , 0.01526535,\n",
       "           0.01526535],\n",
       "          [0.45561033, 0.7658834 , 0.7658834 , 0.19161117, 0.01526535,\n",
       "           0.79612696],\n",
       "          [0.11294115, 0.59075373, 0.59075373, 0.48887622, 1.883611  ,\n",
       "           2.4976087 ],\n",
       "          [1.4955366 , 1.1169949 , 1.1169949 , 1.7642392 , 4.4229746 ,\n",
       "           4.4229746 ],\n",
       "          [3.454513  , 1.1169949 , 1.1169949 , 1.7642392 , 4.4229746 ,\n",
       "           4.4229746 ]],\n",
       " \n",
       "         [[0.49169892, 0.        , 0.        , 0.        , 0.        ,\n",
       "           0.        ],\n",
       "          [3.0060737 , 0.        , 0.        , 0.        , 0.        ,\n",
       "           0.        ],\n",
       "          [3.9451442 , 0.        , 0.        , 0.        , 0.        ,\n",
       "           0.        ],\n",
       "          [3.4871244 , 0.        , 0.        , 0.        , 0.        ,\n",
       "           0.        ],\n",
       "          [1.3655311 , 1.0156468 , 1.2035267 , 0.23456591, 0.        ,\n",
       "           0.        ],\n",
       "          [1.3655311 , 1.0156468 , 1.2035267 , 0.42355102, 0.6465925 ,\n",
       "           1.5438848 ]],\n",
       " \n",
       "         [[0.99712944, 1.6641333 , 1.6641333 , 0.8232337 , 1.5741155 ,\n",
       "           2.5273921 ],\n",
       "          [1.4110284 , 1.6641333 , 1.6641333 , 0.33557558, 0.8763348 ,\n",
       "           1.4723749 ],\n",
       "          [1.5766509 , 0.87790674, 0.        , 0.        , 0.6812532 ,\n",
       "           0.6812532 ],\n",
       "          [1.5766509 , 1.3604419 , 0.        , 1.067273  , 1.067273  ,\n",
       "           0.9815376 ],\n",
       "          [0.72146124, 0.58541304, 0.        , 1.067273  , 1.067273  ,\n",
       "           0.14222002],\n",
       "          [0.42267084, 0.20055532, 0.20055532, 0.27773297, 0.3383342 ,\n",
       "           0.9882155 ]]]], dtype=float32)]"
      ]
     },
     "execution_count": 145,
     "metadata": {},
     "output_type": "execute_result"
    }
   ],
   "source": [
    "res.values()"
   ]
  },
  {
   "cell_type": "code",
   "execution_count": 144,
   "metadata": {},
   "outputs": [
    {
     "data": {
      "text/plain": [
       "{'pool5': array([[[[0.        , 0.        , 0.        , 0.85551125, 1.3025935 ,\n",
       "           1.3025935 ],\n",
       "          [3.3760371 , 1.4088893 , 0.366484  , 0.        , 0.        ,\n",
       "           0.        ],\n",
       "          [4.459055  , 2.8510556 , 1.6761396 , 0.        , 0.        ,\n",
       "           0.        ],\n",
       "          [4.459055  , 2.8510556 , 1.0216339 , 0.        , 0.        ,\n",
       "           0.        ],\n",
       "          [3.5553567 , 0.        , 0.        , 0.        , 0.        ,\n",
       "           0.2769971 ],\n",
       "          [7.378141  , 0.5810433 , 0.72360927, 0.96689403, 1.3337975 ,\n",
       "           5.6620555 ]],\n",
       " \n",
       "         [[3.3095646 , 2.8439968 , 1.460573  , 0.        , 1.6661899 ,\n",
       "           4.248808  ],\n",
       "          [1.3726615 , 1.0828011 , 0.53819937, 3.356305  , 1.675411  ,\n",
       "           8.006325  ],\n",
       "          [1.7812512 , 1.7812512 , 1.279727  , 3.356305  , 1.6539552 ,\n",
       "           7.875453  ],\n",
       "          [1.8288398 , 1.391819  , 1.279727  , 2.2421281 , 0.        ,\n",
       "           4.818714  ],\n",
       "          [1.5117986 , 0.08267725, 0.85451657, 2.1767461 , 0.        ,\n",
       "           4.818714  ],\n",
       "          [0.75973004, 0.08267725, 0.16778624, 0.16778624, 0.        ,\n",
       "           0.46868938]],\n",
       " \n",
       "         [[7.6847005 , 0.        , 0.        , 0.6760684 , 0.711982  ,\n",
       "           4.1528625 ],\n",
       "          [1.1879184 , 0.        , 0.        , 1.51985   , 1.51985   ,\n",
       "           2.6569262 ],\n",
       "          [0.70932204, 0.        , 0.26594365, 1.8402185 , 1.5999569 ,\n",
       "           1.5843064 ],\n",
       "          [0.5750831 , 0.        , 0.        , 0.8556992 , 0.653561  ,\n",
       "           0.56091297],\n",
       "          [0.5750831 , 0.01246071, 0.        , 0.5535799 , 0.15597153,\n",
       "           0.31082666],\n",
       "          [1.9170532 , 1.1447856 , 0.5275121 , 1.1026821 , 1.1026821 ,\n",
       "           1.7488825 ]],\n",
       " \n",
       "         ...,\n",
       " \n",
       "         [[2.9693136 , 2.9245553 , 2.9245553 , 2.4337964 , 1.774308  ,\n",
       "           1.9048119 ],\n",
       "          [1.1485646 , 2.9245553 , 2.9245553 , 0.        , 0.01526535,\n",
       "           0.01526535],\n",
       "          [0.45561033, 0.7658834 , 0.7658834 , 0.19161117, 0.01526535,\n",
       "           0.79612696],\n",
       "          [0.11294115, 0.59075373, 0.59075373, 0.48887622, 1.883611  ,\n",
       "           2.4976087 ],\n",
       "          [1.4955366 , 1.1169949 , 1.1169949 , 1.7642392 , 4.4229746 ,\n",
       "           4.4229746 ],\n",
       "          [3.454513  , 1.1169949 , 1.1169949 , 1.7642392 , 4.4229746 ,\n",
       "           4.4229746 ]],\n",
       " \n",
       "         [[0.49169892, 0.        , 0.        , 0.        , 0.        ,\n",
       "           0.        ],\n",
       "          [3.0060737 , 0.        , 0.        , 0.        , 0.        ,\n",
       "           0.        ],\n",
       "          [3.9451442 , 0.        , 0.        , 0.        , 0.        ,\n",
       "           0.        ],\n",
       "          [3.4871244 , 0.        , 0.        , 0.        , 0.        ,\n",
       "           0.        ],\n",
       "          [1.3655311 , 1.0156468 , 1.2035267 , 0.23456591, 0.        ,\n",
       "           0.        ],\n",
       "          [1.3655311 , 1.0156468 , 1.2035267 , 0.42355102, 0.6465925 ,\n",
       "           1.5438848 ]],\n",
       " \n",
       "         [[0.99712944, 1.6641333 , 1.6641333 , 0.8232337 , 1.5741155 ,\n",
       "           2.5273921 ],\n",
       "          [1.4110284 , 1.6641333 , 1.6641333 , 0.33557558, 0.8763348 ,\n",
       "           1.4723749 ],\n",
       "          [1.5766509 , 0.87790674, 0.        , 0.        , 0.6812532 ,\n",
       "           0.6812532 ],\n",
       "          [1.5766509 , 1.3604419 , 0.        , 1.067273  , 1.067273  ,\n",
       "           0.9815376 ],\n",
       "          [0.72146124, 0.58541304, 0.        , 1.067273  , 1.067273  ,\n",
       "           0.14222002],\n",
       "          [0.42267084, 0.20055532, 0.20055532, 0.27773297, 0.3383342 ,\n",
       "           0.9882155 ]]]], dtype=float32)}"
      ]
     },
     "execution_count": 144,
     "metadata": {},
     "output_type": "execute_result"
    }
   ],
   "source": [
    "res"
   ]
  },
  {
   "cell_type": "code",
   "execution_count": null,
   "metadata": {},
   "outputs": [],
   "source": []
  }
 ],
 "metadata": {
  "kernelspec": {
   "display_name": "Python 2",
   "language": "python",
   "name": "python2"
  },
  "language_info": {
   "codemirror_mode": {
    "name": "ipython",
    "version": 2
   },
   "file_extension": ".py",
   "mimetype": "text/x-python",
   "name": "python",
   "nbconvert_exporter": "python",
   "pygments_lexer": "ipython2",
   "version": "2.7.16"
  }
 },
 "nbformat": 4,
 "nbformat_minor": 2
}
