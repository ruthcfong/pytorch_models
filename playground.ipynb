{
 "cells": [
  {
   "cell_type": "markdown",
   "metadata": {},
   "source": [
    "# Compare Caffe vs. PyTorch"
   ]
  },
  {
   "cell_type": "code",
   "execution_count": 1,
   "metadata": {},
   "outputs": [],
   "source": [
    "from PIL import Image\n",
    "\n",
    "import models.caffe_utils as cutils\n",
    "from models.self_supervised import alexnet, PUZZLE\n",
    "from models.self_supervised_caffe import get_caffe_model, DEFAULT_IMG_PATH\n",
    "from models.transforms import get_transform"
   ]
  },
  {
   "cell_type": "code",
   "execution_count": 2,
   "metadata": {},
   "outputs": [
    {
     "name": "stderr",
     "output_type": "stream",
     "text": [
      "/users/ruthfong/anaconda3/envs/caffe_py27/lib/python2.7/site-packages/skimage/io/_io.py:49: UserWarning: `as_grey` has been deprecated in favor of `as_gray`\n",
      "  warn('`as_grey` has been deprecated in favor of `as_gray`')\n",
      "/users/ruthfong/anaconda3/envs/caffe_py27/lib/python2.7/site-packages/skimage/transform/_warps.py:105: UserWarning: The default mode, 'constant', will be changed to 'reflect' in skimage 0.15.\n",
      "  warn(\"The default mode, 'constant', will be changed to 'reflect' in \"\n",
      "/users/ruthfong/anaconda3/envs/caffe_py27/lib/python2.7/site-packages/skimage/transform/_warps.py:110: UserWarning: Anti-aliasing will be enabled by default in skimage 0.15 to avoid aliasing artifacts when down-sampling images.\n",
      "  warn(\"Anti-aliasing will be enabled by default in skimage 0.15 to \"\n"
     ]
    }
   ],
   "source": [
    "img_path = DEFAULT_IMG_PATH\n",
    "\n",
    "caffe_net = get_caffe_model()\n",
    "caffe_net, caffe_res = cutils.net_forward(caffe_net, img_path)\n",
    "\n",
    "torch_net = alexnet(pretrained=True)\n",
    "img = Image.open(img_path).convert('RGB')\n",
    "transform = get_transform(227)\n",
    "x = transform(img).unsqueeze(0)\n",
    "y = torch_net(x)"
   ]
  },
  {
   "cell_type": "code",
   "execution_count": 3,
   "metadata": {},
   "outputs": [
    {
     "data": {
      "text/plain": [
       "1.7642975e-05"
      ]
     },
     "execution_count": 3,
     "metadata": {},
     "output_type": "execute_result"
    }
   ],
   "source": [
    "(caffe_res['pool5'] - y.cpu().data.numpy()).max()"
   ]
  },
  {
   "cell_type": "markdown",
   "metadata": {},
   "source": [
    "# Replicating Object-Centric Model"
   ]
  },
  {
   "cell_type": "code",
   "execution_count": 18,
   "metadata": {},
   "outputs": [],
   "source": [
    "import torch\n",
    "import torch.nn as nn\n",
    "import numpy as np"
   ]
  },
  {
   "cell_type": "code",
   "execution_count": 4,
   "metadata": {},
   "outputs": [],
   "source": [
    "caffe_net = get_caffe_model(task_name='weakly_objectcentric')\n",
    "caffe_net, caffe_res = cutils.net_forward(caffe_net, img_path)"
   ]
  },
  {
   "cell_type": "code",
   "execution_count": 6,
   "metadata": {},
   "outputs": [
    {
     "data": {
      "text/plain": [
       "OrderedDict([('data', <caffe._caffe.Blob at 0x7fa989e3a6e0>),\n",
       "             ('conv1', <caffe._caffe.Blob at 0x7fa989e3a9b0>),\n",
       "             ('pool1', <caffe._caffe.Blob at 0x7fa989e3ab18>),\n",
       "             ('norm1', <caffe._caffe.Blob at 0x7fa989e3a7d0>),\n",
       "             ('conv2', <caffe._caffe.Blob at 0x7fa989e3a938>),\n",
       "             ('pool2', <caffe._caffe.Blob at 0x7fa989e3a668>),\n",
       "             ('norm2', <caffe._caffe.Blob at 0x7fa989e3a848>),\n",
       "             ('conv3', <caffe._caffe.Blob at 0x7fa989e3a8c0>),\n",
       "             ('conv4', <caffe._caffe.Blob at 0x7fa989e3aaa0>),\n",
       "             ('conv5', <caffe._caffe.Blob at 0x7fa989e3aa28>),\n",
       "             ('pool5', <caffe._caffe.Blob at 0x7fa989e3a500>),\n",
       "             ('fc6', <caffe._caffe.Blob at 0x7fa989e3a398>),\n",
       "             ('fc7', <caffe._caffe.Blob at 0x7fa989e3a320>)])"
      ]
     },
     "execution_count": 6,
     "metadata": {},
     "output_type": "execute_result"
    }
   ],
   "source": [
    "caffe_net.blobs"
   ]
  },
  {
   "cell_type": "code",
   "execution_count": 13,
   "metadata": {},
   "outputs": [
    {
     "name": "stdout",
     "output_type": "stream",
     "text": [
      "(1, 256, 6, 6)\n",
      "(1, 4096)\n"
     ]
    }
   ],
   "source": [
    "print(caffe_net.blobs['pool5'].data.shape)\n",
    "print(caffe_net.blobs['fc6'].data.shape)"
   ]
  },
  {
   "cell_type": "code",
   "execution_count": 16,
   "metadata": {},
   "outputs": [
    {
     "data": {
      "text/plain": [
       "9216"
      ]
     },
     "execution_count": 16,
     "metadata": {},
     "output_type": "execute_result"
    }
   ],
   "source": [
    "np.prod(caffe_net.blobs['pool5'].data.shape)"
   ]
  },
  {
   "cell_type": "code",
   "execution_count": 34,
   "metadata": {},
   "outputs": [],
   "source": [
    "class Model(nn.Module):\n",
    "    def __init__(self):\n",
    "        super(Model, self).__init__()\n",
    "        self.avgpool = nn.AdaptiveAvgPool2d((6, 6))\n",
    "        self.classifier = nn.Sequential(*[\n",
    "            nn.Linear(256 * 6 * 6, 4096),\n",
    "            nn.ReLU(inplace=True),\n",
    "            nn.Linear(4096, 1024),\n",
    "            nn.ReLU(inplace=True),\n",
    "            ])\n",
    "\n",
    "    def forward(self, x):\n",
    "        x = self.avgpool(x)\n",
    "        x = torch.flatten(x, 1)\n",
    "        x = self.classifier(x)\n",
    "        return x"
   ]
  },
  {
   "cell_type": "code",
   "execution_count": 35,
   "metadata": {},
   "outputs": [],
   "source": [
    "model = Model()\n",
    "params = caffe_net.params\n",
    "model.classifier[0].weight.data[...] = torch.from_numpy(params['fc6'][0].data)\n",
    "model.classifier[0].bias.data[...] = torch.from_numpy(params['fc6'][1].data)\n",
    "model.classifier[2].weight.data[...] = torch.from_numpy(params['fc7'][0].data)\n",
    "model.classifier[2].bias.data[...] = torch.from_numpy(params['fc7'][1].data)"
   ]
  },
  {
   "cell_type": "code",
   "execution_count": 36,
   "metadata": {},
   "outputs": [
    {
     "data": {
      "text/plain": [
       "0.0"
      ]
     },
     "execution_count": 36,
     "metadata": {},
     "output_type": "execute_result"
    }
   ],
   "source": [
    "x = torch.from_numpy(caffe_net.blobs['pool5'].data)\n",
    "(model(x).cpu().data.numpy() - caffe_net.blobs['fc7'].data).max()"
   ]
  },
  {
   "cell_type": "markdown",
   "metadata": {},
   "source": [
    "# Debug Audio Model"
   ]
  },
  {
   "cell_type": "code",
   "execution_count": 37,
   "metadata": {},
   "outputs": [],
   "source": [
    "caffe_net = get_caffe_model(task_name='weakly_audio')\n",
    "caffe_net, caffe_res = cutils.net_forward(caffe_net, img_path)"
   ]
  },
  {
   "cell_type": "code",
   "execution_count": 39,
   "metadata": {},
   "outputs": [
    {
     "data": {
      "text/plain": [
       "(1, 96, 55, 55)"
      ]
     },
     "execution_count": 39,
     "metadata": {},
     "output_type": "execute_result"
    }
   ],
   "source": [
    "caffe_net.blobs['conv1'].data.shape"
   ]
  },
  {
   "cell_type": "code",
   "execution_count": 46,
   "metadata": {},
   "outputs": [
    {
     "data": {
      "text/plain": [
       "OrderedDict([('conv1', <caffe._caffe.BlobVec at 0x7fa9866dcd70>),\n",
       "             ('bn1', <caffe._caffe.BlobVec at 0x7fa986687360>),\n",
       "             ('conv2', <caffe._caffe.BlobVec at 0x7fa9866873d0>),\n",
       "             ('bn2', <caffe._caffe.BlobVec at 0x7fa9866872f0>),\n",
       "             ('conv3', <caffe._caffe.BlobVec at 0x7fa986687440>),\n",
       "             ('bn3', <caffe._caffe.BlobVec at 0x7fa9866874b0>),\n",
       "             ('conv4', <caffe._caffe.BlobVec at 0x7fa986687520>),\n",
       "             ('bn4', <caffe._caffe.BlobVec at 0x7fa986687590>),\n",
       "             ('conv5', <caffe._caffe.BlobVec at 0x7fa986687600>),\n",
       "             ('bn5', <caffe._caffe.BlobVec at 0x7fa986687670>)])"
      ]
     },
     "execution_count": 46,
     "metadata": {},
     "output_type": "execute_result"
    }
   ],
   "source": [
    "caffe_net.params"
   ]
  },
  {
   "cell_type": "code",
   "execution_count": 65,
   "metadata": {},
   "outputs": [
    {
     "data": {
      "text/plain": [
       "True"
      ]
     },
     "execution_count": 65,
     "metadata": {},
     "output_type": "execute_result"
    }
   ],
   "source": [
    "hasattr(model[0], 'running_mean')"
   ]
  },
  {
   "cell_type": "code",
   "execution_count": 64,
   "metadata": {},
   "outputs": [],
   "source": [
    "model = nn.Sequential(*[\n",
    "    nn.BatchNorm2d(96, eps=1e-5, momentum=.999, track_running_stats=True, affine=False),\n",
    "    nn.ReLU(inplace=True),\n",
    "])\n",
    "params = caffe_net.params\n",
    "model[0].running_mean.data[...] = torch.from_numpy(params['bn1'][0].data) / params['bn1'][2].data[0]\n",
    "model[0].running_var.data[...] = torch.from_numpy(params['bn1'][1].data) / params['bn1'][2].data[0]\n",
    "# model.eval()"
   ]
  },
  {
   "cell_type": "code",
   "execution_count": 61,
   "metadata": {},
   "outputs": [
    {
     "data": {
      "text/plain": [
       "9.536743e-07"
      ]
     },
     "execution_count": 61,
     "metadata": {},
     "output_type": "execute_result"
    }
   ],
   "source": [
    "x = torch.from_numpy(caffe_net.blobs['conv1'].data)\n",
    "(model(x).cpu().data.numpy() - caffe_net.blobs['bn1'].data).max()"
   ]
  },
  {
   "cell_type": "markdown",
   "metadata": {},
   "source": [
    "# Debug Caffe vs. PyTorch Transformation Difference"
   ]
  },
  {
   "cell_type": "code",
   "execution_count": 199,
   "metadata": {},
   "outputs": [],
   "source": [
    "import os\n",
    "import caffe\n",
    "from caffe.io import resize_image\n",
    "\n",
    "import torch\n",
    "import torch.nn as nn\n",
    "import torch.nn.functional as F\n",
    "\n",
    "import matplotlib.pyplot as plt\n",
    "import numpy as np\n",
    "from PIL import Image\n",
    "\n",
    "from torchvision import datasets, models, transforms\n",
    "\n",
    "from models.self_supervised import PUZZLE\n",
    "from models.self_supervised_caffe import convert_caffe_to_pytorch, DEFAULT_IMG_PATH, DEFAULT_CAFFE_MODELS_DIR\n",
    "from models.caffe_utils import get_imagenet_mean, get_caffe_model"
   ]
  },
  {
   "cell_type": "code",
   "execution_count": 252,
   "metadata": {},
   "outputs": [],
   "source": [
    "size = (227, 227)\n",
    "def resize(x):\n",
    "    if not isinstance(size, int):\n",
    "        orig_height, orig_width = size\n",
    "    else:\n",
    "        height, width = x.shape[1:3]\n",
    "        if width < height:\n",
    "            orig_width = size\n",
    "            orig_height = int(size * height / width)\n",
    "        else:\n",
    "            orig_height = size\n",
    "            orig_width = int(size * width / height)\n",
    "    with torch.no_grad():\n",
    "        x = F.interpolate(x.unsqueeze(0), (orig_height, orig_width),\n",
    "                          mode='bilinear', align_corners=False)\n",
    "        x = x.squeeze(0)\n",
    "    return x"
   ]
  },
  {
   "cell_type": "code",
   "execution_count": 259,
   "metadata": {},
   "outputs": [],
   "source": [
    "def resize_image(im, new_dims, interp_order=1):\n",
    "    \"\"\"\n",
    "    Resize an image array with interpolation.\n",
    "    Parameters\n",
    "    ----------\n",
    "    im : (H x W x K) ndarray\n",
    "    new_dims : (height, width) tuple of new dimensions.\n",
    "    interp_order : interpolation order, default is linear.\n",
    "    Returns\n",
    "    -------\n",
    "    im : resized ndarray with shape (new_dims[0], new_dims[1], K)\n",
    "    \"\"\"\n",
    "    from skimage.transform import resize\n",
    "\n",
    "    if im.shape[-1] == 1 or im.shape[-1] == 3:\n",
    "        im_min, im_max = im.min(), im.max()\n",
    "        if im_max > im_min:\n",
    "            # skimage is fast but only understands {1,3} channel images\n",
    "            # in [0, 1].\n",
    "            im_std = (im - im_min) / (im_max - im_min)\n",
    "            resized_std = resize(im_std, new_dims, order=interp_order, mode='constant')\n",
    "            resized_im = resized_std * (im_max - im_min) + im_min\n",
    "        else:\n",
    "            # the image is a constant -- avoid divide by 0\n",
    "            ret = np.empty((new_dims[0], new_dims[1], im.shape[-1]),\n",
    "                           dtype=np.float32)\n",
    "            ret.fill(im_min)\n",
    "            return ret\n",
    "    else:\n",
    "        # ndimage interpolates anything but more slowly.\n",
    "        scale = tuple(np.array(new_dims, dtype=float) / np.array(im.shape[:2]))\n",
    "        resized_im = zoom(im, scale + (1,), order=interp_order)\n",
    "    return resized_im.astype(np.float32)"
   ]
  },
  {
   "cell_type": "code",
   "execution_count": 260,
   "metadata": {},
   "outputs": [],
   "source": [
    "caffe_models_dir = DEFAULT_CAFFE_MODELS_DIR\n",
    "task_name = PUZZLE\n",
    "prototxt_path = os.path.join(caffe_models_dir,\n",
    "                             task_name + '.prototxt')\n",
    "caffemodel_path = os.path.join(caffe_models_dir,\n",
    "                               task_name + '.caffemodel')\n",
    "net = get_caffe_model(prototxt_path, caffemodel_path)"
   ]
  },
  {
   "cell_type": "code",
   "execution_count": 295,
   "metadata": {},
   "outputs": [
    {
     "data": {
      "text/plain": [
       "array([104.00698793, 116.66876762, 122.67891434])"
      ]
     },
     "execution_count": 295,
     "metadata": {},
     "output_type": "execute_result"
    }
   ],
   "source": [
    "mu"
   ]
  },
  {
   "cell_type": "code",
   "execution_count": 290,
   "metadata": {},
   "outputs": [],
   "source": [
    "transformer = caffe.io.Transformer({'data':net.blobs['data'].data.shape})\n",
    "transformer.set_transpose('data', (2,0,1))\n",
    "mu = get_imagenet_mean()\n",
    "transformer.set_mean('data', mu)\n",
    "transformer.set_raw_scale('data', 255)\n",
    "# transformer.set_channel_swap('data', (2,1,0))\n",
    "\n",
    "bgr_mean = mu # [103.939, 116.779, 123.68]\n",
    "mean = [m / 255. for m in bgr_mean]\n",
    "# mean = [m / 255. for m in reversed(bgr_mean)]\n",
    "std = [1 / 255.] * 3\n",
    "\n",
    "transform = transforms.Compose([\n",
    "    lambda x: np.array(x) / 255.,\n",
    "    lambda x: resize_image(x, (227, 227)),\n",
    "    transforms.ToTensor(),\n",
    "    transforms.Normalize(mean=mean, std=std),\n",
    "    # resize,\n",
    "])"
   ]
  },
  {
   "cell_type": "code",
   "execution_count": 291,
   "metadata": {},
   "outputs": [
    {
     "name": "stdout",
     "output_type": "stream",
     "text": [
      "here\n"
     ]
    }
   ],
   "source": [
    "caffe_in = img.astype(np.float32, copy=False)\n",
    "in_dims = transformer.inputs['data'][2:]\n",
    "if caffe_in.shape[:2] != in_dims:\n",
    "    print('here')\n",
    "    caffe_in = resize_image(caffe_in, in_dims)"
   ]
  },
  {
   "cell_type": "code",
   "execution_count": 292,
   "metadata": {},
   "outputs": [
    {
     "data": {
      "image/png": "[encoded data removed]",
      "text/plain": [
       "<Figure size 432x288 with 1 Axes>"
      ]
     },
     "metadata": {
      "needs_background": "light"
     },
     "output_type": "display_data"
    }
   ],
   "source": [
    "f, ax = plt.subplots(1, 1)\n",
    "ax.imshow(caffe_in)\n",
    "plt.show()"
   ]
  },
  {
   "cell_type": "code",
   "execution_count": 293,
   "metadata": {},
   "outputs": [],
   "source": [
    "img_paths = DEFAULT_IMG_PATH\n",
    "\n",
    "net.blobs['data'].reshape(1,\n",
    "                          3,\n",
    "                          net.blobs['data'].data.shape[2],\n",
    "                          net.blobs['data'].data.shape[3])\n",
    "\n",
    "img = caffe.io.load_image(img_paths)\n",
    "net.blobs['data'].data[...] = transformer.preprocess('data', img)\n",
    "x_caffe = net.blobs['data'].data\n",
    "\n",
    "img_ = Image.open(img_paths).convert('RGB')\n",
    "x = transform(img_).unsqueeze(0)"
   ]
  },
  {
   "cell_type": "code",
   "execution_count": 294,
   "metadata": {},
   "outputs": [
    {
     "data": {
      "text/plain": [
       "2.0211252e-07"
      ]
     },
     "execution_count": 294,
     "metadata": {},
     "output_type": "execute_result"
    }
   ],
   "source": [
    "max_diff = np.abs(x_caffe - x.cpu().data.numpy()).max()\n",
    "mag = max(np.abs(x_caffe).max(), np.abs(x.cpu().data.numpy()).max())\n",
    "max_diff / mag"
   ]
  },
  {
   "cell_type": "code",
   "execution_count": 289,
   "metadata": {},
   "outputs": [
    {
     "data": {
      "text/plain": [
       "tensor([[[[ -85.2572,  -87.0799,  -91.9222,  ..., -104.0070, -104.0070,\n",
       "           -104.0070],\n",
       "          [ -83.1851,  -85.9677,  -88.9660,  ..., -104.0070, -104.0070,\n",
       "           -104.0070],\n",
       "          [ -81.2246,  -83.0658,  -86.0070,  ..., -104.0070, -104.0070,\n",
       "           -104.0070],\n",
       "          ...,\n",
       "          [ -12.7462,   -5.3103,    5.4324,  ...,  -23.9409,  -22.0466,\n",
       "            -24.5356],\n",
       "          [ -18.2033,  -11.8486,   -2.1771,  ...,  -25.3484,  -23.4541,\n",
       "            -25.9338],\n",
       "          [ -98.0860,  -97.0729,  -93.2110,  ...,  -95.0008,  -93.1190,\n",
       "            -95.1255]],\n",
       "\n",
       "         [[ -86.0771,  -89.7684,  -94.6500,  ..., -116.6688, -116.6688,\n",
       "           -116.6688],\n",
       "          [ -85.8736,  -88.6287,  -93.5234,  ..., -116.6688, -116.6688,\n",
       "           -116.6688],\n",
       "          [ -85.8736,  -87.6615,  -92.5366,  ..., -116.6688, -116.6688,\n",
       "           -116.6688],\n",
       "          ...,\n",
       "          [  -8.5860,   -1.0382,    6.8356,  ...,  -19.8009,  -19.8406,\n",
       "            -22.4278],\n",
       "          [ -15.9642,   -9.5104,   -1.7919,  ...,  -25.1357,  -25.1754,\n",
       "            -27.7274],\n",
       "          [ -95.9454,  -94.8338,  -93.8536,  ...,  -97.7943,  -97.8337,\n",
       "            -99.8927]],\n",
       "\n",
       "         [[-103.9292, -106.7256, -111.5875,  ..., -122.6789, -122.6789,\n",
       "           -122.6789],\n",
       "          [-102.8308, -105.6393, -110.5335,  ..., -122.6789, -122.6789,\n",
       "           -122.6789],\n",
       "          [-104.7322, -106.6056, -110.5457,  ..., -122.6789, -122.6789,\n",
       "           -122.6789],\n",
       "          ...,\n",
       "          [ -91.3914,  -84.3545,  -73.5798,  ...,  -92.9851,  -92.0194,\n",
       "            -92.2864],\n",
       "          [ -77.8887,  -71.8263,  -61.2840,  ...,  -74.6179,  -73.7090,\n",
       "            -75.9414],\n",
       "          [-122.6789, -122.6789, -122.6789,  ..., -122.6789, -122.6789,\n",
       "           -122.6789]]]])"
      ]
     },
     "execution_count": 289,
     "metadata": {},
     "output_type": "execute_result"
    }
   ],
   "source": [
    "x"
   ]
  },
  {
   "cell_type": "code",
   "execution_count": 190,
   "metadata": {},
   "outputs": [
    {
     "data": {
      "image/png": "[encoded data removed]",
      "text/plain": [
       "<Figure size 432x288 with 1 Axes>"
      ]
     },
     "metadata": {
      "needs_background": "light"
     },
     "output_type": "display_data"
    }
   ],
   "source": [
    "f, ax = plt.subplots(1, 1)\n",
    "ax.imshow(np.transpose(x_caffe[0], (1, 2, 0)))\n",
    "plt.show()"
   ]
  },
  {
   "cell_type": "code",
   "execution_count": 186,
   "metadata": {},
   "outputs": [
    {
     "ename": "ValueError",
     "evalue": "operands could not be broadcast together with shapes (1,3,227,227) (1,3,224,224) ",
     "output_type": "error",
     "traceback": [
      "\u001b[0;31m---------------------------------------------------------------------------\u001b[0m",
      "\u001b[0;31mValueError\u001b[0m                                Traceback (most recent call last)",
      "\u001b[0;32m<ipython-input-186-504f03dea428>\u001b[0m in \u001b[0;36m<module>\u001b[0;34m()\u001b[0m\n\u001b[0;32m----> 1\u001b[0;31m \u001b[0mx_caffe\u001b[0m \u001b[0;34m-\u001b[0m \u001b[0mx\u001b[0m\u001b[0;34m.\u001b[0m\u001b[0mdata\u001b[0m\u001b[0;34m.\u001b[0m\u001b[0mnumpy\u001b[0m\u001b[0;34m(\u001b[0m\u001b[0;34m)\u001b[0m\u001b[0;34m\u001b[0m\u001b[0m\n\u001b[0m",
      "\u001b[0;31mValueError\u001b[0m: operands could not be broadcast together with shapes (1,3,227,227) (1,3,224,224) "
     ]
    }
   ],
   "source": [
    "x_caffe - x.data.numpy()"
   ]
  },
  {
   "cell_type": "code",
   "execution_count": 181,
   "metadata": {},
   "outputs": [
    {
     "data": {
      "text/plain": [
       "(224, 224, 3)"
      ]
     },
     "execution_count": 181,
     "metadata": {},
     "output_type": "execute_result"
    }
   ],
   "source": []
  },
  {
   "cell_type": "code",
   "execution_count": 2,
   "metadata": {},
   "outputs": [
    {
     "name": "stderr",
     "output_type": "stream",
     "text": [
      "/users/ruthfong/anaconda3/envs/caffe_py27/lib/python2.7/site-packages/skimage/io/_io.py:49: UserWarning: `as_grey` has been deprecated in favor of `as_gray`\n",
      "  warn('`as_grey` has been deprecated in favor of `as_gray`')\n",
      "/users/ruthfong/anaconda3/envs/caffe_py27/lib/python2.7/site-packages/skimage/transform/_warps.py:105: UserWarning: The default mode, 'constant', will be changed to 'reflect' in skimage 0.15.\n",
      "  warn(\"The default mode, 'constant', will be changed to 'reflect' in \"\n",
      "/users/ruthfong/anaconda3/envs/caffe_py27/lib/python2.7/site-packages/skimage/transform/_warps.py:110: UserWarning: Anti-aliasing will be enabled by default in skimage 0.15 to avoid aliasing artifacts when down-sampling images.\n",
      "  warn(\"Anti-aliasing will be enabled by default in skimage 0.15 to \"\n"
     ]
    },
    {
     "name": "stdout",
     "output_type": "stream",
     "text": [
      "> /home/ruthfong/pytorch_models/models/self_supervised_caffe.py(26)convert_caffe_to_pytorch()\n",
      "-> return net\n",
      "(Pdb) c\n"
     ]
    }
   ],
   "source": [
    "net = convert_caffe_to_pytorch(gpu=0)"
   ]
  },
  {
   "cell_type": "code",
   "execution_count": 13,
   "metadata": {},
   "outputs": [],
   "source": [
    "import os\n",
    "\n",
    "from caffe.proto import caffe_pb2\n",
    "import google.protobuf.text_format as txtf\n",
    "\n",
    "import torch\n",
    "import torch.nn as nn\n",
    "\n",
    "from models.self_supervised_caffe import DEFAULT_CAFFE_MODELS_DIR\n",
    "from models.self_supervised import PUZZLE\n",
    "\n",
    "task_name = PUZZLE\n",
    "prototxt_path = os.path.join(DEFAULT_CAFFE_MODELS_DIR, task_name + '.prototxt')\n",
    "\n",
    "net_p = caffe_pb2.NetParameter()\n",
    "\n",
    "with open(prototxt_path) as f:\n",
    "    s = f.read()\n",
    "    txtf.Merge(s, net_p)\n",
    "\n",
    "layer_names = [l.name for l in net_p.layer]"
   ]
  },
  {
   "cell_type": "code",
   "execution_count": 5,
   "metadata": {},
   "outputs": [
    {
     "data": {
      "text/plain": [
       "[u'conv1_s1',\n",
       " u'relu1_s1',\n",
       " u'pool1_s1',\n",
       " u'norm1_s1',\n",
       " u'conv2_s1',\n",
       " u'relu2_s1',\n",
       " u'pool2_s1',\n",
       " u'norm2_s1',\n",
       " u'conv3_s1',\n",
       " u'relu3_s1',\n",
       " u'conv4_s1',\n",
       " u'relu4_s1',\n",
       " u'conv5_s1',\n",
       " u'relu5_s1',\n",
       " u'pool5']"
      ]
     },
     "execution_count": 5,
     "metadata": {},
     "output_type": "execute_result"
    }
   ],
   "source": [
    "layer_names"
   ]
  },
  {
   "cell_type": "code",
   "execution_count": 83,
   "metadata": {},
   "outputs": [
    {
     "data": {
      "text/plain": [
       "name: \"norm1_s1\"\n",
       "type: \"LRN\"\n",
       "bottom: \"pool1_s1\"\n",
       "top: \"norm1_s1\"\n",
       "lrn_param {\n",
       "  local_size: 5\n",
       "  alpha: 9.99999974738e-05\n",
       "  beta: 0.75\n",
       "}"
      ]
     },
     "execution_count": 83,
     "metadata": {},
     "output_type": "execute_result"
    }
   ],
   "source": [
    "net_p.layer[3]"
   ]
  },
  {
   "cell_type": "code",
   "execution_count": 105,
   "metadata": {},
   "outputs": [],
   "source": [
    "new_model = nn.Sequential(*[\n",
    "    nn.Conv2d(3, 96, kernel_size=(11, 11), stride=(4, 4)),\n",
    "nn.ReLU(inplace=True),\n",
    "nn.MaxPool2d(kernel_size=3, stride=2, padding=0, dilation=1, ceil_mode=True),\n",
    "nn.LocalResponseNorm(5, alpha=9.99999974738e-05, beta=0.75, k=1.0),\n",
    "nn.Conv2d(96, 256, kernel_size=(5, 5), stride=(1, 1), padding=(2, 2), groups=2),\n",
    "nn.ReLU(inplace=True),\n",
    "nn.MaxPool2d(kernel_size=3, stride=2, padding=0, dilation=1, ceil_mode=True),\n",
    "nn.LocalResponseNorm(5, alpha=9.99999974738e-05, beta=0.75, k=1.0),\n",
    "nn.Conv2d(256, 384, kernel_size=(3, 3), stride=(1, 1), padding=(1, 1)),\n",
    "nn.ReLU(inplace=True),\n",
    "nn.Conv2d(384, 384, kernel_size=(3, 3), stride=(1, 1), padding=(1, 1), groups=2),\n",
    "nn.ReLU(inplace=True),\n",
    "nn.Conv2d(384, 256, kernel_size=(3, 3), stride=(1, 1), padding=(1, 1), groups=2),\n",
    "nn.ReLU(inplace=True),\n",
    "nn.MaxPool2d(kernel_size=3, stride=2, padding=0, dilation=1, ceil_mode=True),\n",
    "])"
   ]
  },
  {
   "cell_type": "code",
   "execution_count": 114,
   "metadata": {},
   "outputs": [
    {
     "data": {
      "text/plain": [
       "True"
      ]
     },
     "execution_count": 114,
     "metadata": {},
     "output_type": "execute_result"
    }
   ],
   "source": [
    "'torch.nn' in str(type(m))"
   ]
  },
  {
   "cell_type": "code",
   "execution_count": 118,
   "metadata": {},
   "outputs": [
    {
     "name": "stdout",
     "output_type": "stream",
     "text": [
      "Sequential(*[\n",
      "nn.Conv2d(3, 96, kernel_size=(11, 11), stride=(4, 4)),\n",
      "nn.ReLU(inplace=True),\n",
      "nn.MaxPool2d(kernel_size=3, stride=2, padding=0, dilation=1, ceil_mode=True),\n",
      "nn.LocalResponseNorm(5, alpha=9.99999974738e-05, beta=0.75, k=1.0),\n",
      "nn.Conv2d(96, 256, kernel_size=(5, 5), stride=(1, 1), padding=(2, 2), groups=2),\n",
      "nn.ReLU(inplace=True),\n",
      "nn.MaxPool2d(kernel_size=3, stride=2, padding=0, dilation=1, ceil_mode=True),\n",
      "nn.LocalResponseNorm(5, alpha=9.99999974738e-05, beta=0.75, k=1.0),\n",
      "nn.Conv2d(256, 384, kernel_size=(3, 3), stride=(1, 1), padding=(1, 1)),\n",
      "nn.ReLU(inplace=True),\n",
      "nn.Conv2d(384, 384, kernel_size=(3, 3), stride=(1, 1), padding=(1, 1), groups=2),\n",
      "nn.ReLU(inplace=True),\n",
      "nn.Conv2d(384, 256, kernel_size=(3, 3), stride=(1, 1), padding=(1, 1), groups=2),\n",
      "nn.ReLU(inplace=True),\n",
      "nn.MaxPool2d(kernel_size=3, stride=2, padding=0, dilation=1, ceil_mode=True),\n",
      "])\n"
     ]
    }
   ],
   "source": [
    "assert isinstance(features, nn.Sequential)\n",
    "str_rep = 'Sequential(*[\\n'\n",
    "for m in features:\n",
    "    prefix = 'nn.' if 'torch.nn' in repr(type(m)) else ''\n",
    "    str_rep += prefix + str(m) + ',\\n'\n",
    "str_rep += '])'\n",
    "print(str_rep)"
   ]
  },
  {
   "cell_type": "code",
   "execution_count": 127,
   "metadata": {},
   "outputs": [
    {
     "data": {
      "text/plain": [
       "[u'conv1_s1']"
      ]
     },
     "execution_count": 127,
     "metadata": {},
     "output_type": "execute_result"
    }
   ],
   "source": [
    "net_p.layer[1].top"
   ]
  },
  {
   "cell_type": "code",
   "execution_count": 129,
   "metadata": {},
   "outputs": [
    {
     "name": "stdout",
     "output_type": "stream",
     "text": [
      "(0, name: \"conv1_s1\"\n",
      "type: \"Convolution\"\n",
      "bottom: \"data\"\n",
      "top: \"conv1_s1\"\n",
      "convolution_param {\n",
      "  num_output: 96\n",
      "  kernel_size: 11\n",
      "  stride: 4\n",
      "}\n",
      ")\n",
      "(1, name: \"relu1_s1\"\n",
      "type: \"ReLU\"\n",
      "bottom: \"conv1_s1\"\n",
      "top: \"conv1_s1\"\n",
      ")\n",
      "(2, name: \"pool1_s1\"\n",
      "type: \"Pooling\"\n",
      "bottom: \"conv1_s1\"\n",
      "top: \"pool1_s1\"\n",
      "pooling_param {\n",
      "  pool: MAX\n",
      "  kernel_size: 3\n",
      "  stride: 2\n",
      "}\n",
      ")\n",
      "(3, name: \"norm1_s1\"\n",
      "type: \"LRN\"\n",
      "bottom: \"pool1_s1\"\n",
      "top: \"norm1_s1\"\n",
      "lrn_param {\n",
      "  local_size: 5\n",
      "  alpha: 9.99999974738e-05\n",
      "  beta: 0.75\n",
      "}\n",
      ")\n",
      "(4, name: \"conv2_s1\"\n",
      "type: \"Convolution\"\n",
      "bottom: \"norm1_s1\"\n",
      "top: \"conv2_s1\"\n",
      "convolution_param {\n",
      "  num_output: 256\n",
      "  pad: 2\n",
      "  kernel_size: 5\n",
      "  group: 2\n",
      "}\n",
      ")\n",
      "(5, name: \"relu2_s1\"\n",
      "type: \"ReLU\"\n",
      "bottom: \"conv2_s1\"\n",
      "top: \"conv2_s1\"\n",
      ")\n",
      "(6, name: \"pool2_s1\"\n",
      "type: \"Pooling\"\n",
      "bottom: \"conv2_s1\"\n",
      "top: \"pool2_s1\"\n",
      "pooling_param {\n",
      "  pool: MAX\n",
      "  kernel_size: 3\n",
      "  stride: 2\n",
      "}\n",
      ")\n",
      "(7, name: \"norm2_s1\"\n",
      "type: \"LRN\"\n",
      "bottom: \"pool2_s1\"\n",
      "top: \"norm2_s1\"\n",
      "lrn_param {\n",
      "  local_size: 5\n",
      "  alpha: 9.99999974738e-05\n",
      "  beta: 0.75\n",
      "}\n",
      ")\n",
      "(8, name: \"conv3_s1\"\n",
      "type: \"Convolution\"\n",
      "bottom: \"norm2_s1\"\n",
      "top: \"conv3_s1\"\n",
      "convolution_param {\n",
      "  num_output: 384\n",
      "  pad: 1\n",
      "  kernel_size: 3\n",
      "}\n",
      ")\n",
      "(9, name: \"relu3_s1\"\n",
      "type: \"ReLU\"\n",
      "bottom: \"conv3_s1\"\n",
      "top: \"conv3_s1\"\n",
      ")\n",
      "(10, name: \"conv4_s1\"\n",
      "type: \"Convolution\"\n",
      "bottom: \"conv3_s1\"\n",
      "top: \"conv4_s1\"\n",
      "convolution_param {\n",
      "  num_output: 384\n",
      "  pad: 1\n",
      "  kernel_size: 3\n",
      "  group: 2\n",
      "}\n",
      ")\n",
      "(11, name: \"relu4_s1\"\n",
      "type: \"ReLU\"\n",
      "bottom: \"conv4_s1\"\n",
      "top: \"conv4_s1\"\n",
      ")\n",
      "(12, name: \"conv5_s1\"\n",
      "type: \"Convolution\"\n",
      "bottom: \"conv4_s1\"\n",
      "top: \"conv5_s1\"\n",
      "convolution_param {\n",
      "  num_output: 256\n",
      "  pad: 1\n",
      "  kernel_size: 3\n",
      "  group: 2\n",
      "}\n",
      ")\n",
      "(13, name: \"relu5_s1\"\n",
      "type: \"ReLU\"\n",
      "bottom: \"conv5_s1\"\n",
      "top: \"conv5_s1\"\n",
      ")\n",
      "(14, name: \"pool5\"\n",
      "type: \"Pooling\"\n",
      "bottom: \"conv5_s1\"\n",
      "top: \"pool5\"\n",
      "pooling_param {\n",
      "  pool: MAX\n",
      "  kernel_size: 3\n",
      "  stride: 2\n",
      "}\n",
      ")\n"
     ]
    }
   ],
   "source": [
    "POOL_MAX = 0;\n",
    "POOL_AVE = 1;\n",
    "POOL_STOCHASTIC = 2;\n",
    "\n",
    "def extract_param(param, default_value=None):\n",
    "    if isinstance(param, int) or isinstance(param, float):\n",
    "        return param\n",
    "    if len(param) == 1:\n",
    "        return int(param[0])\n",
    "    elif len(param) == 0:\n",
    "        if default_value is not None:\n",
    "            return default_value\n",
    "        else:\n",
    "            # TODO(ruthfong): raise specific error.\n",
    "            assert False\n",
    "    else:\n",
    "        raise NotImplementedError\n",
    "\n",
    "get_stride = lambda p: extract_param(p.stride, 1)\n",
    "get_padding = lambda p: extract_param(p.pad, 0)\n",
    "get_kernel_size = lambda p: extract_param(p.kernel_size)\n",
    "get_bias = lambda p: extract_param(p.bias_term, True)\n",
    "get_groups = lambda p: extract_param(p.group, 1)\n",
    "get_local_size = lambda p: extract_param(p.local_size, 5)\n",
    "get_alpha = lambda p: extract_param(p.alpha, 1.)\n",
    "get_beta = lambda p: extract_param(p.beta, 0.75)\n",
    "get_k = lambda p: extract_param(p.k, 1.)\n",
    "\n",
    "prev_dim = 3\n",
    "inplace = True\n",
    "new_layers = []\n",
    "learnable_layers = {}\n",
    "\n",
    "for i, layer in enumerate(net_p.layer):\n",
    "    if layer.type == 'Convolution':\n",
    "        p = layer.convolution_param\n",
    "        kernel_size = get_kernel_size(p)\n",
    "        stride = get_stride(p)\n",
    "        padding = get_padding(p)\n",
    "        bias = get_bias(p)\n",
    "        groups = get_groups(p)\n",
    "        new_layer = nn.Conv2d(prev_dim,\n",
    "                              p.num_output,\n",
    "                              kernel_size,\n",
    "                              stride=stride,\n",
    "                              padding=padding,\n",
    "                              dilation=1,\n",
    "                              groups=groups,\n",
    "                              bias=bias,\n",
    "                              padding_mode='zeros')\n",
    "        assert len(layer.top) == 1\n",
    "        learnable_layers[layer.top[0]] = i\n",
    "        prev_dim = p.num_output\n",
    "    elif layer.type == 'ReLU':\n",
    "        assert len(layer.top) == 1\n",
    "        assert len(layer.bottom) == 1\n",
    "        new_layer = nn.ReLU(inplace=inplace if inplace else layer.top[0] == layer.bottom[0])\n",
    "    elif layer.type == 'Pooling':\n",
    "        p = layer.pooling_param\n",
    "        kernel_size = get_kernel_size(p)\n",
    "        stride = get_stride(p)\n",
    "        padding = get_padding(p)\n",
    "        ceil_mode = True  # caffe uses ceil_mode=True\n",
    "        if p.pool is POOL_MAX:\n",
    "            new_layer = nn.MaxPool2d(kernel_size,\n",
    "                                     stride=stride,\n",
    "                                     padding=padding,\n",
    "                                     dilation=1,\n",
    "                                     return_indices=False,\n",
    "                                     ceil_mode=ceil_mode)\n",
    "        else:\n",
    "            raise NotImplementedError\n",
    "    elif layer.type == 'LRN':\n",
    "        p = layer.lrn_param\n",
    "        local_size = get_local_size(p)\n",
    "        alpha = get_alpha(p)\n",
    "        beta = get_beta(p)\n",
    "        k = get_k(p)\n",
    "        new_layer = nn.LocalResponseNorm(local_size,\n",
    "                                         alpha=alpha,\n",
    "                                         beta=beta,\n",
    "                                         k=k)\n",
    "    else:\n",
    "        raise NotImplementedError\n",
    "    print(i, layer)#, new_layer)\n",
    "    new_layers.append(new_layer)"
   ]
  },
  {
   "cell_type": "code",
   "execution_count": 135,
   "metadata": {},
   "outputs": [],
   "source": [
    "features = nn.Sequential(*new_layers)\n",
    "for param_name, param in net.params.items():\n",
    "    layer_i = learnable_layers[param_name]\n",
    "    num_params = len(param)\n",
    "    assert num_params > 0\n",
    "    assert num_params < 3\n",
    "    assert 'conv' in param_name\n",
    "    features[layer_i].weight.data[...] = torch.from_numpy(param[0].data)\n",
    "    if num_params == 2:\n",
    "        features[layer_i].bias.data[...] = torch.from_numpy(param[1].data)"
   ]
  },
  {
   "cell_type": "code",
   "execution_count": 21,
   "metadata": {},
   "outputs": [],
   "source": [
    "model = models.alexnet()"
   ]
  },
  {
   "cell_type": "code",
   "execution_count": 176,
   "metadata": {},
   "outputs": [],
   "source": [
    "from torchvision.models.utils import load_state_dict_from_url\n",
    "\n",
    "model_urls = {\n",
    "    'weakly_solvingpuzzle': 'https://github.com/ruthcfong/pytorch_models/releases/download/v2.0/alexnet-weakly_solvingpuzzle-7e75c18e.pt',\n",
    "}\n",
    "\n",
    "class AlexNetPuzzle(nn.Module):\n",
    "    def __init__(self, params=None):\n",
    "        super(AlexNetPuzzle, self).__init__()\n",
    "        self.features = nn.Sequential(\n",
    "            nn.Conv2d(3, 96, kernel_size=11, stride=4),\n",
    "            nn.ReLU(inplace=True),\n",
    "            nn.MaxPool2d(kernel_size=3, stride=2),\n",
    "            nn.LocalResponseNorm(5, alpha=0.0001, beta=0.75),\n",
    "            nn.Conv2d(96, 256, kernel_size=5, groups=2, padding=2),\n",
    "            nn.ReLU(inplace=True),\n",
    "            nn.MaxPool2d(kernel_size=3, stride=2),\n",
    "            nn.LocalResponseNorm(5, alpha=0.0001, beta=0.75),\n",
    "            nn.Conv2d(256, 384, kernel_size=3, padding=1),\n",
    "            nn.ReLU(inplace=True),\n",
    "            nn.Conv2d(384, 384, kernel_size=3, groups=2, padding=1),\n",
    "            nn.ReLU(inplace=True),\n",
    "            nn.Conv2d(384, 256, kernel_size=3, groups=2, padding=1),\n",
    "            nn.ReLU(inplace=True),\n",
    "            nn.MaxPool2d(kernel_size=3, stride=2)\n",
    "        )\n",
    "        if params:\n",
    "            self.load_caffe_weights(params)\n",
    "\n",
    "    def forward(self, x):\n",
    "        return self.features(x)\n",
    "\n",
    "    def load_caffe_weights(self, params):\n",
    "        self.features[0].weight.data[...] = torch.from_numpy(params['conv1_s1'][0].data)\n",
    "        self.features[0].bias.data[...] = torch.from_numpy(params['conv1_s1'][1].data)\n",
    "        self.features[4].weight.data[...] = torch.from_numpy(params['conv2_s1'][0].data)\n",
    "        self.features[4].bias.data[...] = torch.from_numpy(params['conv2_s1'][1].data)\n",
    "        self.features[8].weight.data[...] = torch.from_numpy(params['conv3_s1'][0].data)\n",
    "        self.features[8].bias.data[...] = torch.from_numpy(params['conv3_s1'][1].data)\n",
    "        self.features[10].weight.data[...] = torch.from_numpy(params['conv4_s1'][0].data)\n",
    "        self.features[10].bias.data[...] = torch.from_numpy(params['conv4_s1'][1].data)\n",
    "        self.features[12].weight.data[...] = torch.from_numpy(params['conv5_s1'][0].data)\n",
    "        self.features[12].bias.data[...] = torch.from_numpy(params['conv5_s1'][1].data)\n",
    "\n",
    "def alexnet(task_name='weakly_solvingpuzzle',\n",
    "            pretrained=False,\n",
    "            progress=True,\n",
    "            **kwargs):\n",
    "    assert task_name == 'weakly_solvingpuzzle'\n",
    "    if task_name == 'weakly_solvingpuzzle':\n",
    "        AlexNetPuzzle(**kwargs)\n",
    "    if pretrained:\n",
    "        state_dict = load_state_dict_from_url(model_urls[task_name],\n",
    "                                              progress=progress)\n",
    "        model.load_state_dict(state_dict)\n",
    "    return model"
   ]
  },
  {
   "cell_type": "code",
   "execution_count": 177,
   "metadata": {},
   "outputs": [
    {
     "name": "stderr",
     "output_type": "stream",
     "text": [
      "Downloading: \"https://github.com/ruthcfong/pytorch_models/releases/download/v2.0/alexnet-weakly_solvingpuzzle-7e75c18e.pt\" to /users/ruthfong/.cache/torch/checkpoints/alexnet-weakly_solvingpuzzle-7e75c18e.pt\n",
      "100.0%\n"
     ]
    }
   ],
   "source": [
    "model = alexnet(pretrained=True)"
   ]
  },
  {
   "cell_type": "code",
   "execution_count": 158,
   "metadata": {},
   "outputs": [],
   "source": [
    "new_model = nn.Sequential(\n",
    "    nn.Conv2d(3, 96, kernel_size=11, stride=4),\n",
    "    nn.ReLU(inplace=True),\n",
    "    nn.MaxPool2d(kernel_size=3, stride=2),\n",
    "    nn.LocalResponseNorm(5, alpha=0.0001, beta=0.75),\n",
    "    nn.Conv2d(96, 256, kernel_size=5, groups=2, padding=2),\n",
    "    nn.ReLU(inplace=True),\n",
    "    nn.MaxPool2d(kernel_size=3, stride=2),\n",
    "    nn.LocalResponseNorm(5, alpha=0.0001, beta=0.75),\n",
    "    nn.Conv2d(256, 384, kernel_size=3, padding=1),\n",
    "    nn.ReLU(inplace=True),\n",
    "    nn.Conv2d(384, 384, kernel_size=3, groups=2, padding=1),\n",
    "    nn.ReLU(inplace=True),\n",
    "    nn.Conv2d(384, 256, kernel_size=3, groups=2, padding=1),\n",
    "    nn.ReLU(inplace=True),\n",
    "    nn.MaxPool2d(kernel_size=3, stride=2)\n",
    ")"
   ]
  },
  {
   "cell_type": "code",
   "execution_count": 170,
   "metadata": {},
   "outputs": [],
   "source": [
    "model = AlexNetPuzzle(params=net.params)"
   ]
  },
  {
   "cell_type": "code",
   "execution_count": 173,
   "metadata": {},
   "outputs": [],
   "source": [
    "pytorch_models_dir = '/scratch/local/ssd/ruthfong/models/net_dissect/pytorch'\n",
    "torch.save(model.state_dict(), os.path.join(pytorch_models_dir, caffe_model_name + '.pt'))"
   ]
  },
  {
   "cell_type": "code",
   "execution_count": 159,
   "metadata": {},
   "outputs": [],
   "source": [
    "new_model[0].weight.data[...] = torch.from_numpy(net.params['conv1_s1'][0].data)\n",
    "new_model[0].bias.data[...] = torch.from_numpy(net.params['conv1_s1'][1].data)\n",
    "new_model[4].weight.data[...] = torch.from_numpy(net.params['conv2_s1'][0].data)\n",
    "new_model[4].bias.data[...] = torch.from_numpy(net.params['conv2_s1'][1].data)\n",
    "new_model[8].weight.data[...] = torch.from_numpy(net.params['conv3_s1'][0].data)\n",
    "new_model[8].bias.data[...] = torch.from_numpy(net.params['conv3_s1'][1].data)\n",
    "new_model[10].weight.data[...] = torch.from_numpy(net.params['conv4_s1'][0].data)\n",
    "new_model[10].bias.data[...] = torch.from_numpy(net.params['conv4_s1'][1].data)\n",
    "new_model[12].weight.data[...] = torch.from_numpy(net.params['conv5_s1'][0].data)\n",
    "new_model[12].bias.data[...] = torch.from_numpy(net.params['conv5_s1'][1].data)"
   ]
  },
  {
   "cell_type": "code",
   "execution_count": 136,
   "metadata": {},
   "outputs": [],
   "source": [
    "x = torch.from_numpy(net.blobs['data'].data)"
   ]
  },
  {
   "cell_type": "code",
   "execution_count": 138,
   "metadata": {},
   "outputs": [
    {
     "data": {
      "text/plain": [
       "1.23381615e-05"
      ]
     },
     "execution_count": 138,
     "metadata": {},
     "output_type": "execute_result"
    }
   ],
   "source": [
    "(features(x).cpu().data.numpy() - net.blobs['pool5'].data).max()"
   ]
  },
  {
   "cell_type": "code",
   "execution_count": 101,
   "metadata": {},
   "outputs": [
    {
     "data": {
      "text/plain": [
       "(1, 96, 27, 27)"
      ]
     },
     "execution_count": 101,
     "metadata": {},
     "output_type": "execute_result"
    }
   ],
   "source": [
    "net.blobs['norm1_s1'].data.shape"
   ]
  },
  {
   "cell_type": "code",
   "execution_count": 127,
   "metadata": {},
   "outputs": [
    {
     "data": {
      "text/plain": [
       "(1, 256, 23, 23)"
      ]
     },
     "execution_count": 127,
     "metadata": {},
     "output_type": "execute_result"
    }
   ],
   "source": [
    "new_model(x).cpu().data.numpy().shape"
   ]
  },
  {
   "cell_type": "code",
   "execution_count": 140,
   "metadata": {},
   "outputs": [],
   "source": [
    "res = net.forward()"
   ]
  },
  {
   "cell_type": "code",
   "execution_count": 145,
   "metadata": {},
   "outputs": [
    {
     "data": {
      "text/plain": [
       "[array([[[[0.        , 0.        , 0.        , 0.85551125, 1.3025935 ,\n",
       "           1.3025935 ],\n",
       "          [3.3760371 , 1.4088893 , 0.366484  , 0.        , 0.        ,\n",
       "           0.        ],\n",
       "          [4.459055  , 2.8510556 , 1.6761396 , 0.        , 0.        ,\n",
       "           0.        ],\n",
       "          [4.459055  , 2.8510556 , 1.0216339 , 0.        , 0.        ,\n",
       "           0.        ],\n",
       "          [3.5553567 , 0.        , 0.        , 0.        , 0.        ,\n",
       "           0.2769971 ],\n",
       "          [7.378141  , 0.5810433 , 0.72360927, 0.96689403, 1.3337975 ,\n",
       "           5.6620555 ]],\n",
       " \n",
       "         [[3.3095646 , 2.8439968 , 1.460573  , 0.        , 1.6661899 ,\n",
       "           4.248808  ],\n",
       "          [1.3726615 , 1.0828011 , 0.53819937, 3.356305  , 1.675411  ,\n",
       "           8.006325  ],\n",
       "          [1.7812512 , 1.7812512 , 1.279727  , 3.356305  , 1.6539552 ,\n",
       "           7.875453  ],\n",
       "          [1.8288398 , 1.391819  , 1.279727  , 2.2421281 , 0.        ,\n",
       "           4.818714  ],\n",
       "          [1.5117986 , 0.08267725, 0.85451657, 2.1767461 , 0.        ,\n",
       "           4.818714  ],\n",
       "          [0.75973004, 0.08267725, 0.16778624, 0.16778624, 0.        ,\n",
       "           0.46868938]],\n",
       " \n",
       "         [[7.6847005 , 0.        , 0.        , 0.6760684 , 0.711982  ,\n",
       "           4.1528625 ],\n",
       "          [1.1879184 , 0.        , 0.        , 1.51985   , 1.51985   ,\n",
       "           2.6569262 ],\n",
       "          [0.70932204, 0.        , 0.26594365, 1.8402185 , 1.5999569 ,\n",
       "           1.5843064 ],\n",
       "          [0.5750831 , 0.        , 0.        , 0.8556992 , 0.653561  ,\n",
       "           0.56091297],\n",
       "          [0.5750831 , 0.01246071, 0.        , 0.5535799 , 0.15597153,\n",
       "           0.31082666],\n",
       "          [1.9170532 , 1.1447856 , 0.5275121 , 1.1026821 , 1.1026821 ,\n",
       "           1.7488825 ]],\n",
       " \n",
       "         ...,\n",
       " \n",
       "         [[2.9693136 , 2.9245553 , 2.9245553 , 2.4337964 , 1.774308  ,\n",
       "           1.9048119 ],\n",
       "          [1.1485646 , 2.9245553 , 2.9245553 , 0.        , 0.01526535,\n",
       "           0.01526535],\n",
       "          [0.45561033, 0.7658834 , 0.7658834 , 0.19161117, 0.01526535,\n",
       "           0.79612696],\n",
       "          [0.11294115, 0.59075373, 0.59075373, 0.48887622, 1.883611  ,\n",
       "           2.4976087 ],\n",
       "          [1.4955366 , 1.1169949 , 1.1169949 , 1.7642392 , 4.4229746 ,\n",
       "           4.4229746 ],\n",
       "          [3.454513  , 1.1169949 , 1.1169949 , 1.7642392 , 4.4229746 ,\n",
       "           4.4229746 ]],\n",
       " \n",
       "         [[0.49169892, 0.        , 0.        , 0.        , 0.        ,\n",
       "           0.        ],\n",
       "          [3.0060737 , 0.        , 0.        , 0.        , 0.        ,\n",
       "           0.        ],\n",
       "          [3.9451442 , 0.        , 0.        , 0.        , 0.        ,\n",
       "           0.        ],\n",
       "          [3.4871244 , 0.        , 0.        , 0.        , 0.        ,\n",
       "           0.        ],\n",
       "          [1.3655311 , 1.0156468 , 1.2035267 , 0.23456591, 0.        ,\n",
       "           0.        ],\n",
       "          [1.3655311 , 1.0156468 , 1.2035267 , 0.42355102, 0.6465925 ,\n",
       "           1.5438848 ]],\n",
       " \n",
       "         [[0.99712944, 1.6641333 , 1.6641333 , 0.8232337 , 1.5741155 ,\n",
       "           2.5273921 ],\n",
       "          [1.4110284 , 1.6641333 , 1.6641333 , 0.33557558, 0.8763348 ,\n",
       "           1.4723749 ],\n",
       "          [1.5766509 , 0.87790674, 0.        , 0.        , 0.6812532 ,\n",
       "           0.6812532 ],\n",
       "          [1.5766509 , 1.3604419 , 0.        , 1.067273  , 1.067273  ,\n",
       "           0.9815376 ],\n",
       "          [0.72146124, 0.58541304, 0.        , 1.067273  , 1.067273  ,\n",
       "           0.14222002],\n",
       "          [0.42267084, 0.20055532, 0.20055532, 0.27773297, 0.3383342 ,\n",
       "           0.9882155 ]]]], dtype=float32)]"
      ]
     },
     "execution_count": 145,
     "metadata": {},
     "output_type": "execute_result"
    }
   ],
   "source": [
    "res.values()"
   ]
  },
  {
   "cell_type": "code",
   "execution_count": 144,
   "metadata": {},
   "outputs": [
    {
     "data": {
      "text/plain": [
       "{'pool5': array([[[[0.        , 0.        , 0.        , 0.85551125, 1.3025935 ,\n",
       "           1.3025935 ],\n",
       "          [3.3760371 , 1.4088893 , 0.366484  , 0.        , 0.        ,\n",
       "           0.        ],\n",
       "          [4.459055  , 2.8510556 , 1.6761396 , 0.        , 0.        ,\n",
       "           0.        ],\n",
       "          [4.459055  , 2.8510556 , 1.0216339 , 0.        , 0.        ,\n",
       "           0.        ],\n",
       "          [3.5553567 , 0.        , 0.        , 0.        , 0.        ,\n",
       "           0.2769971 ],\n",
       "          [7.378141  , 0.5810433 , 0.72360927, 0.96689403, 1.3337975 ,\n",
       "           5.6620555 ]],\n",
       " \n",
       "         [[3.3095646 , 2.8439968 , 1.460573  , 0.        , 1.6661899 ,\n",
       "           4.248808  ],\n",
       "          [1.3726615 , 1.0828011 , 0.53819937, 3.356305  , 1.675411  ,\n",
       "           8.006325  ],\n",
       "          [1.7812512 , 1.7812512 , 1.279727  , 3.356305  , 1.6539552 ,\n",
       "           7.875453  ],\n",
       "          [1.8288398 , 1.391819  , 1.279727  , 2.2421281 , 0.        ,\n",
       "           4.818714  ],\n",
       "          [1.5117986 , 0.08267725, 0.85451657, 2.1767461 , 0.        ,\n",
       "           4.818714  ],\n",
       "          [0.75973004, 0.08267725, 0.16778624, 0.16778624, 0.        ,\n",
       "           0.46868938]],\n",
       " \n",
       "         [[7.6847005 , 0.        , 0.        , 0.6760684 , 0.711982  ,\n",
       "           4.1528625 ],\n",
       "          [1.1879184 , 0.        , 0.        , 1.51985   , 1.51985   ,\n",
       "           2.6569262 ],\n",
       "          [0.70932204, 0.        , 0.26594365, 1.8402185 , 1.5999569 ,\n",
       "           1.5843064 ],\n",
       "          [0.5750831 , 0.        , 0.        , 0.8556992 , 0.653561  ,\n",
       "           0.56091297],\n",
       "          [0.5750831 , 0.01246071, 0.        , 0.5535799 , 0.15597153,\n",
       "           0.31082666],\n",
       "          [1.9170532 , 1.1447856 , 0.5275121 , 1.1026821 , 1.1026821 ,\n",
       "           1.7488825 ]],\n",
       " \n",
       "         ...,\n",
       " \n",
       "         [[2.9693136 , 2.9245553 , 2.9245553 , 2.4337964 , 1.774308  ,\n",
       "           1.9048119 ],\n",
       "          [1.1485646 , 2.9245553 , 2.9245553 , 0.        , 0.01526535,\n",
       "           0.01526535],\n",
       "          [0.45561033, 0.7658834 , 0.7658834 , 0.19161117, 0.01526535,\n",
       "           0.79612696],\n",
       "          [0.11294115, 0.59075373, 0.59075373, 0.48887622, 1.883611  ,\n",
       "           2.4976087 ],\n",
       "          [1.4955366 , 1.1169949 , 1.1169949 , 1.7642392 , 4.4229746 ,\n",
       "           4.4229746 ],\n",
       "          [3.454513  , 1.1169949 , 1.1169949 , 1.7642392 , 4.4229746 ,\n",
       "           4.4229746 ]],\n",
       " \n",
       "         [[0.49169892, 0.        , 0.        , 0.        , 0.        ,\n",
       "           0.        ],\n",
       "          [3.0060737 , 0.        , 0.        , 0.        , 0.        ,\n",
       "           0.        ],\n",
       "          [3.9451442 , 0.        , 0.        , 0.        , 0.        ,\n",
       "           0.        ],\n",
       "          [3.4871244 , 0.        , 0.        , 0.        , 0.        ,\n",
       "           0.        ],\n",
       "          [1.3655311 , 1.0156468 , 1.2035267 , 0.23456591, 0.        ,\n",
       "           0.        ],\n",
       "          [1.3655311 , 1.0156468 , 1.2035267 , 0.42355102, 0.6465925 ,\n",
       "           1.5438848 ]],\n",
       " \n",
       "         [[0.99712944, 1.6641333 , 1.6641333 , 0.8232337 , 1.5741155 ,\n",
       "           2.5273921 ],\n",
       "          [1.4110284 , 1.6641333 , 1.6641333 , 0.33557558, 0.8763348 ,\n",
       "           1.4723749 ],\n",
       "          [1.5766509 , 0.87790674, 0.        , 0.        , 0.6812532 ,\n",
       "           0.6812532 ],\n",
       "          [1.5766509 , 1.3604419 , 0.        , 1.067273  , 1.067273  ,\n",
       "           0.9815376 ],\n",
       "          [0.72146124, 0.58541304, 0.        , 1.067273  , 1.067273  ,\n",
       "           0.14222002],\n",
       "          [0.42267084, 0.20055532, 0.20055532, 0.27773297, 0.3383342 ,\n",
       "           0.9882155 ]]]], dtype=float32)}"
      ]
     },
     "execution_count": 144,
     "metadata": {},
     "output_type": "execute_result"
    }
   ],
   "source": [
    "res"
   ]
  },
  {
   "cell_type": "code",
   "execution_count": null,
   "metadata": {},
   "outputs": [],
   "source": []
  }
 ],
 "metadata": {
  "kernelspec": {
   "display_name": "Python 2",
   "language": "python",
   "name": "python2"
  },
  "language_info": {
   "codemirror_mode": {
    "name": "ipython",
    "version": 2
   },
   "file_extension": ".py",
   "mimetype": "text/x-python",
   "name": "python",
   "nbconvert_exporter": "python",
   "pygments_lexer": "ipython2",
   "version": "2.7.16"
  }
 },
 "nbformat": 4,
 "nbformat_minor": 2
}
